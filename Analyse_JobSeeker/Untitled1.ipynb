{
 "cells": [
  {
   "cell_type": "code",
   "execution_count": 4,
   "id": "1753a57a",
   "metadata": {},
   "outputs": [],
   "source": [
    "#importation\n",
    "import pandas as pd\n",
    "from sklearn.feature_extraction.text import TfidfVectorizer\n",
    "from sklearn.preprocessing import LabelEncoder\n",
    "from sklearn.model_selection import train_test_split\n",
    "from sklearn.linear_model import LogisticRegression\n",
    "from sklearn.metrics import accuracy_score\n",
    "import joblib\n",
    "import numpy as np\n"
   ]
  },
  {
   "cell_type": "code",
   "execution_count": 5,
   "id": "3838410f",
   "metadata": {},
   "outputs": [
    {
     "name": "stdout",
     "output_type": "stream",
     "text": [
      "Précision du modèle: 1.0\n",
      "Les 5 compétences prédites pour la nouvelle description sont : ['SQL, MySQL, Oracle, DBMS' 'Support client, Dépannage, Windows OS'\n",
      " 'AWS, Azure, Cloud Computing, Docker, Kubernetes'\n",
      " 'JavaScript, React, Node.js, HTML, CSS'\n",
      " 'Python, R, Machine Learning, Statistiques, SQL']\n"
     ]
    }
   ],
   "source": [
    "# Charger les données\n",
    "data = pd.read_csv('job.csv')\n",
    "\n",
    "# Utiliser les descriptions d'emploi comme entrée et les compétences comme cible\n",
    "X = data['Description']\n",
    "y = data['Skills']\n",
    "vectorizer = TfidfVectorizer()\n",
    "X_vect = vectorizer.fit_transform(X)\n",
    "\n",
    "# Encodage des compétences\n",
    "encoder = LabelEncoder()\n",
    "y_encoded = encoder.fit_transform(y)\n",
    "# Séparation en ensembles d'entraînement et de test\n",
    "X_train, X_test, y_train, y_test = train_test_split(X_vect, y_encoded, test_size=0.2, random_state=42)\n",
    "\n",
    "# Entraînement du modèle de régression logistique\n",
    "model = LogisticRegression(max_iter=1000)\n",
    "model.fit(X_train, y_train)\n",
    "y_pred = model.predict(X_test)\n",
    "accuracy = accuracy_score(y_test, y_pred)\n",
    "print(f'Précision du modèle: {accuracy}')\n",
    "joblib.dump(model, 'job_model2.joblib')\n",
    "joblib.dump(vectorizer, 'job_vectorizer2.joblib')\n",
    "joblib.dump(encoder, 'job_encoder2.joblib')\n",
    "\n",
    "def predict_top_5_skills(description):\n",
    "    description_vect = vectorizer.transform([description])\n",
    "    probabilities = model.predict_proba(description_vect)[0]\n",
    "    \n",
    "    # Obtenir les indices des 5 meilleures probabilités\n",
    "    top_5_indices = np.argsort(probabilities)[-5:]\n",
    "    \n",
    "    # Récupérer les compétences correspondantes\n",
    "    top_5_skills = encoder.inverse_transform(top_5_indices)\n",
    "    \n",
    "    return top_5_skills\n",
    "\n",
    "# Test de la fonction de prédiction\n",
    "new_description = \"Développeur web maîtrisant JavaScript, React et Node.js pour créer des applications dynamiques.\"\n",
    "predicted_skills = predict_top_5_skills(new_description)\n",
    "print(f'Les 5 compétences prédites pour la nouvelle description sont : {predicted_skills}')"
   ]
  },
  {
   "cell_type": "code",
   "execution_count": null,
   "id": "3275fd47",
   "metadata": {},
   "outputs": [],
   "source": []
  }
 ],
 "metadata": {
  "kernelspec": {
   "display_name": "Python 3 (ipykernel)",
   "language": "python",
   "name": "python3"
  },
  "language_info": {
   "codemirror_mode": {
    "name": "ipython",
    "version": 3
   },
   "file_extension": ".py",
   "mimetype": "text/x-python",
   "name": "python",
   "nbconvert_exporter": "python",
   "pygments_lexer": "ipython3",
   "version": "3.10.9"
  }
 },
 "nbformat": 4,
 "nbformat_minor": 5
}
