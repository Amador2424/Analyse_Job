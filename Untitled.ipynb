{
 "cells": [
  {
   "cell_type": "code",
   "execution_count": 8,
   "id": "802a8db1",
   "metadata": {},
   "outputs": [],
   "source": [
    "#importation\n",
    "import pandas as pd\n",
    "from sklearn.feature_extraction.text import TfidfVectorizer\n",
    "from sklearn.preprocessing import LabelEncoder\n",
    "from sklearn.model_selection import train_test_split\n",
    "from sklearn.linear_model import LogisticRegression\n",
    "from sklearn.metrics import accuracy_score\n",
    "import joblib"
   ]
  },
  {
   "cell_type": "code",
   "execution_count": 12,
   "id": "51469d0a",
   "metadata": {},
   "outputs": [
    {
     "name": "stdout",
     "output_type": "stream",
     "text": [
      "Précision du modèle: 1.0\n",
      "Compétences prédites pour la nouvelle description: Python, R, Machine Learning, Statistiques, SQL\n"
     ]
    }
   ],
   "source": [
    "\n",
    "data = pd.read_csv('job.csv')\n",
    "\n",
    "\n",
    "X = data['Description']\n",
    "y = data['Skills']\n",
    "vectorizer = TfidfVectorizer()\n",
    "X_vect = vectorizer.fit_transform(X)\n",
    "\n",
    "\n",
    "encoder = LabelEncoder()\n",
    "y_encoded = encoder.fit_transform(y)\n",
    "\n",
    "X_train, X_test, y_train, y_test = train_test_split(X_vect, y_encoded, test_size=0.2, random_state=42)\n",
    "\n",
    "\n",
    "model = LogisticRegression(max_iter=1000)\n",
    "model.fit(X_train, y_train)\n",
    "y_pred = model.predict(X_test)\n",
    "accuracy = accuracy_score(y_test, y_pred)\n",
    "print(f'Précision du modèle: {accuracy}')\n",
    "joblib.dump(model, 'job_model.joblib')\n",
    "joblib.dump(vectorizer, 'job_vectorizer.joblib')\n",
    "joblib.dump(encoder, 'job_encoder.joblib')\n",
    "\n",
    "\n",
    "def predict_skills(description):\n",
    "    description_vect = vectorizer.transform([description])\n",
    "    skills_encoded = model.predict(description_vect)\n",
    "    skills = encoder.inverse_transform(skills_encoded)\n",
    "    return skills[0]\n",
    "\n",
    "# Test\n",
    "new_description = \"Développeur IA.\"\n",
    "predicted_skills = predict_skills(new_description)\n",
    "print(f'Compétences prédites pour la nouvelle description: {predicted_skills}')"
   ]
  },
  {
   "cell_type": "code",
   "execution_count": null,
   "id": "1e525312",
   "metadata": {},
   "outputs": [],
   "source": []
  },
  {
   "cell_type": "code",
   "execution_count": null,
   "id": "16c71339",
   "metadata": {},
   "outputs": [],
   "source": []
  },
  {
   "cell_type": "code",
   "execution_count": null,
   "id": "b6613c36",
   "metadata": {},
   "outputs": [],
   "source": []
  },
  {
   "cell_type": "code",
   "execution_count": null,
   "id": "e3ed6a6b",
   "metadata": {},
   "outputs": [],
   "source": []
  },
  {
   "cell_type": "code",
   "execution_count": null,
   "id": "22c9c606",
   "metadata": {},
   "outputs": [],
   "source": []
  }
 ],
 "metadata": {
  "kernelspec": {
   "display_name": "Python 3 (ipykernel)",
   "language": "python",
   "name": "python3"
  },
  "language_info": {
   "codemirror_mode": {
    "name": "ipython",
    "version": 3
   },
   "file_extension": ".py",
   "mimetype": "text/x-python",
   "name": "python",
   "nbconvert_exporter": "python",
   "pygments_lexer": "ipython3",
   "version": "3.10.9"
  }
 },
 "nbformat": 4,
 "nbformat_minor": 5
}
